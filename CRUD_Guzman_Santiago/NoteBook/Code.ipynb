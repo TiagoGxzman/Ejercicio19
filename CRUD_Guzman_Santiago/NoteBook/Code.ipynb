{
 "cells": [
  {
   "cell_type": "code",
   "execution_count": 1,
   "metadata": {},
   "outputs": [
    {
     "name": "stdout",
     "output_type": "stream",
     "text": [
      "Ingrese el primer numero\n",
      "El primer numero es 2\n",
      "Ingrese el segundo numero\n",
      "El segundo numero es 0\n",
      "¡CUIDADO! si un cero es ingresado voy a explotar durisimo\n"
     ]
    }
   ],
   "source": [
    "#Definir el primer número \n",
    "print(\"Ingrese el primer numero\")\n",
    "num1 = int(input())\n",
    "print(\"El primer numero es\", num1)\n",
    "#Definir el sgundo número\n",
    "print(\"Ingrese el segundo numero\")\n",
    "num2 = int(input())\n",
    "print(\"El segundo numero es\", num2)\n",
    "\n",
    "#Se usa try por que al dividir por cero el codigo lanza un error\n",
    "try:\n",
    " \n",
    " #La división en cuestion\n",
    "    num1/num2\n",
    "    result = num1/num2\n",
    "    print(\"El resultado de la division es: \", result)\n",
    "#El except se usa para ejecutar el codigo que yo quiero en vez de ejecutar el error por defecto\n",
    "except ZeroDivisionError:\n",
    "    \n",
    "    #Mi mensaje de error\n",
    "    print(\"¡CUIDADO! si un cero es ingresado voy a explotar durisimo\")"
   ]
  }
 ],
 "metadata": {
  "kernelspec": {
   "display_name": "Python 3",
   "language": "python",
   "name": "python3"
  },
  "language_info": {
   "codemirror_mode": {
    "name": "ipython",
    "version": 3
   },
   "file_extension": ".py",
   "mimetype": "text/x-python",
   "name": "python",
   "nbconvert_exporter": "python",
   "pygments_lexer": "ipython3",
   "version": "3.12.5"
  }
 },
 "nbformat": 4,
 "nbformat_minor": 2
}
